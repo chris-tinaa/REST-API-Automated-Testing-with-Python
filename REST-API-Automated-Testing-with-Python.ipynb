{
 "cells": [
  {
   "cell_type": "markdown",
   "id": "trying-metro",
   "metadata": {},
   "source": [
    "Reference: peter-jp-xie.medium.com"
   ]
  },
  {
   "cell_type": "code",
   "execution_count": 37,
   "id": "relative-philippines",
   "metadata": {},
   "outputs": [],
   "source": [
    "def pretty_print_request(request):\n",
    "    print( '\\n{}\\n{}\\n\\n{}\\n\\n{}\\n'.format(\n",
    "        '-----------Request----------->',\n",
    "        request.method + ' ' + request.url,\n",
    "        '\\n'.join('{}: {}'.format(k, v) for k, v in request.headers.items()),\n",
    "        request.body)\n",
    "    )\n",
    "\n",
    "def pretty_print_response(response):\n",
    "    print('\\n{}\\n{}\\n\\n{}\\n\\n{}\\n'.format(\n",
    "        '<-----------Response-----------',\n",
    "        'Status code:' + str(response.status_code),\n",
    "        '\\n'.join('{}: {}'.format(k, v) for k, v in response.headers.items()),\n",
    "        response.text)\n",
    "    )         \n",
    "    \n",
    "def test_post_headers_body_json():\n",
    "    url = 'https://httpbin.org/post'\n",
    "    \n",
    "    # Additional headers.\n",
    "    headers = {'Content-Type': 'application/json' } \n",
    "\n",
    "    # Body\n",
    "    payload = {'key1': 1, 'key2': 'value2'}\n",
    "    \n",
    "    # convert dict to json by json.dumps() for body data. \n",
    "    resp = requests.post(url, headers=headers, data=json.dumps(payload,indent=4))       \n",
    "    \n",
    "    # Validate response headers and body contents, e.g. status code.\n",
    "    assert resp.status_code == 200\n",
    "    resp_body = resp.json()\n",
    "    assert resp_body['url'] == url\n",
    "    \n",
    "    # print full request and response\n",
    "    pretty_print_request(resp.request)\n",
    "    pretty_print_response(resp)\n",
    "\n",
    "def test_get():\n",
    "    \n",
    "    # convert dict to json by json.dumps() for body data. \n",
    "    resp = requests.get(\"https://airportgap.dev-tester.com/api/airports\")       \n",
    "    \n",
    "    # Validate response headers and body contents, e.g. status code.\n",
    "    assert resp.status_code == 200\n",
    "    resp_body = resp.json()\n",
    "    \n",
    "    # print full request and response\n",
    "    pretty_print_request(resp.request)\n",
    "    pretty_print_response(resp)\n",
    "    "
   ]
  },
  {
   "cell_type": "markdown",
   "id": "romance-shade",
   "metadata": {},
   "source": [
    "Trying to GET"
   ]
  },
  {
   "cell_type": "code",
   "execution_count": 38,
   "id": "inclusive-jungle",
   "metadata": {
    "scrolled": false
   },
   "outputs": [
    {
     "name": "stdout",
     "output_type": "stream",
     "text": [
      "\n",
      "-----------Request----------->\n",
      "GET https://airportgap.dev-tester.com/api/airports\n",
      "\n",
      "User-Agent: python-requests/2.25.1\n",
      "Accept-Encoding: gzip, deflate\n",
      "Accept: */*\n",
      "Connection: keep-alive\n",
      "\n",
      "None\n",
      "\n",
      "\n",
      "<-----------Response-----------\n",
      "Status code:200\n",
      "\n",
      "Date: Thu, 08 Jul 2021 15:49:55 GMT\n",
      "Content-Type: application/json; charset=utf-8\n",
      "Transfer-Encoding: chunked\n",
      "Connection: keep-alive\n",
      "Vary: Accept-Encoding, Accept\n",
      "X-Frame-Options: SAMEORIGIN\n",
      "X-XSS-Protection: 1; mode=block\n",
      "X-Content-Type-Options: nosniff\n",
      "X-Download-Options: noopen\n",
      "X-Permitted-Cross-Domain-Policies: none\n",
      "Referrer-Policy: strict-origin-when-cross-origin\n",
      "ETag: W/\"37f4286d3dd3278024683e8b0b63f0fa\"\n",
      "Cache-Control: max-age=0, private, must-revalidate\n",
      "X-Request-Id: 2d8910cf-1c55-45fa-a886-20dce2b9dd11\n",
      "X-Runtime: 0.024697\n",
      "Strict-Transport-Security: max-age=63072000; includeSubDomains, max-age=15724800; includeSubdomains\n",
      "Content-Encoding: gzip\n",
      "CF-Cache-Status: DYNAMIC\n",
      "Expect-CT: max-age=604800, report-uri=\"https://report-uri.cloudflare.com/cdn-cgi/beacon/expect-ct\"\n",
      "Report-To: {\"endpoints\":[{\"url\":\"https:\\/\\/a.nel.cloudflare.com\\/report\\/v2?s=QfAlUGFaKk8C2Lwarkwt7xR0CCoH%2FPhinWQCTnNSIkIGn2nYa%2BU%2FsxCTDU%2BfokKuuZoSHGMCYDCHHSOkXHf4%2BtggnRk8f22iLZm0WMaDYtbI1mnr8qDNPWfj%2BNG5Xt05HOue9hqM2w%3D%3D\"}],\"group\":\"cf-nel\",\"max_age\":604800}\n",
      "NEL: {\"report_to\":\"cf-nel\",\"max_age\":604800}\n",
      "Server: cloudflare\n",
      "CF-RAY: 66ba771d3d35ed5b-SJC\n",
      "alt-svc: h3-27=\":443\"; ma=86400, h3-28=\":443\"; ma=86400, h3-29=\":443\"; ma=86400, h3=\":443\"; ma=86400\n",
      "\n",
      "{\"data\":[{\"id\":\"GKA\",\"type\":\"airport\",\"attributes\":{\"name\":\"Goroka Airport\",\"city\":\"Goroka\",\"country\":\"Papua New Guinea\",\"iata\":\"GKA\",\"icao\":\"AYGA\",\"latitude\":\"-6.08169\",\"longitude\":\"145.391998\",\"altitude\":5282,\"timezone\":\"Pacific/Port_Moresby\"}},{\"id\":\"MAG\",\"type\":\"airport\",\"attributes\":{\"name\":\"Madang Airport\",\"city\":\"Madang\",\"country\":\"Papua New Guinea\",\"iata\":\"MAG\",\"icao\":\"AYMD\",\"latitude\":\"-5.20708\",\"longitude\":\"145.789001\",\"altitude\":20,\"timezone\":\"Pacific/Port_Moresby\"}},{\"id\":\"HGU\",\"type\":\"airport\",\"attributes\":{\"name\":\"Mount Hagen Kagamuga Airport\",\"city\":\"Mount Hagen\",\"country\":\"Papua New Guinea\",\"iata\":\"HGU\",\"icao\":\"AYMH\",\"latitude\":\"-5.82679\",\"longitude\":\"144.296005\",\"altitude\":5388,\"timezone\":\"Pacific/Port_Moresby\"}},{\"id\":\"LAE\",\"type\":\"airport\",\"attributes\":{\"name\":\"Nadzab Airport\",\"city\":\"Nadzab\",\"country\":\"Papua New Guinea\",\"iata\":\"LAE\",\"icao\":\"AYNZ\",\"latitude\":\"-6.569803\",\"longitude\":\"146.725977\",\"altitude\":239,\"timezone\":\"Pacific/Port_Moresby\"}},{\"id\":\"POM\",\"type\":\"airport\",\"attributes\":{\"name\":\"Port Moresby Jacksons International Airport\",\"city\":\"Port Moresby\",\"country\":\"Papua New Guinea\",\"iata\":\"POM\",\"icao\":\"AYPY\",\"latitude\":\"-9.44338\",\"longitude\":\"147.220001\",\"altitude\":146,\"timezone\":\"Pacific/Port_Moresby\"}},{\"id\":\"WWK\",\"type\":\"airport\",\"attributes\":{\"name\":\"Wewak International Airport\",\"city\":\"Wewak\",\"country\":\"Papua New Guinea\",\"iata\":\"WWK\",\"icao\":\"AYWK\",\"latitude\":\"-3.58383\",\"longitude\":\"143.669006\",\"altitude\":19,\"timezone\":\"Pacific/Port_Moresby\"}},{\"id\":\"UAK\",\"type\":\"airport\",\"attributes\":{\"name\":\"Narsarsuaq Airport\",\"city\":\"Narssarssuaq\",\"country\":\"Greenland\",\"iata\":\"UAK\",\"icao\":\"BGBW\",\"latitude\":\"61.1605\",\"longitude\":\"-45.425999\",\"altitude\":112,\"timezone\":\"America/Godthab\"}},{\"id\":\"GOH\",\"type\":\"airport\",\"attributes\":{\"name\":\"Godthaab / Nuuk Airport\",\"city\":\"Godthaab\",\"country\":\"Greenland\",\"iata\":\"GOH\",\"icao\":\"BGGH\",\"latitude\":\"64.190903\",\"longitude\":\"-51.678101\",\"altitude\":283,\"timezone\":\"America/Godthab\"}},{\"id\":\"SFJ\",\"type\":\"airport\",\"attributes\":{\"name\":\"Kangerlussuaq Airport\",\"city\":\"Sondrestrom\",\"country\":\"Greenland\",\"iata\":\"SFJ\",\"icao\":\"BGSF\",\"latitude\":\"67.012222\",\"longitude\":\"-50.711603\",\"altitude\":165,\"timezone\":\"America/Godthab\"}},{\"id\":\"THU\",\"type\":\"airport\",\"attributes\":{\"name\":\"Thule Air Base\",\"city\":\"Thule\",\"country\":\"Greenland\",\"iata\":\"THU\",\"icao\":\"BGTL\",\"latitude\":\"76.531197\",\"longitude\":\"-68.703201\",\"altitude\":251,\"timezone\":\"America/Thule\"}},{\"id\":\"AEY\",\"type\":\"airport\",\"attributes\":{\"name\":\"Akureyri Airport\",\"city\":\"Akureyri\",\"country\":\"Iceland\",\"iata\":\"AEY\",\"icao\":\"BIAR\",\"latitude\":\"65.660004\",\"longitude\":\"-18.072701\",\"altitude\":6,\"timezone\":\"Atlantic/Reykjavik\"}},{\"id\":\"EGS\",\"type\":\"airport\",\"attributes\":{\"name\":\"Egilsstaðir Airport\",\"city\":\"Egilsstadir\",\"country\":\"Iceland\",\"iata\":\"EGS\",\"icao\":\"BIEG\",\"latitude\":\"65.283302\",\"longitude\":\"-14.4014\",\"altitude\":76,\"timezone\":\"Atlantic/Reykjavik\"}},{\"id\":\"HFN\",\"type\":\"airport\",\"attributes\":{\"name\":\"Hornafjörður Airport\",\"city\":\"Hofn\",\"country\":\"Iceland\",\"iata\":\"HFN\",\"icao\":\"BIHN\",\"latitude\":\"64.295601\",\"longitude\":\"-15.2272\",\"altitude\":24,\"timezone\":\"Atlantic/Reykjavik\"}},{\"id\":\"HZK\",\"type\":\"airport\",\"attributes\":{\"name\":\"Húsavík Airport\",\"city\":\"Husavik\",\"country\":\"Iceland\",\"iata\":\"HZK\",\"icao\":\"BIHU\",\"latitude\":\"65.952301\",\"longitude\":\"-17.426001\",\"altitude\":48,\"timezone\":\"Atlantic/Reykjavik\"}},{\"id\":\"IFJ\",\"type\":\"airport\",\"attributes\":{\"name\":\"Ísafjörður Airport\",\"city\":\"Isafjordur\",\"country\":\"Iceland\",\"iata\":\"IFJ\",\"icao\":\"BIIS\",\"latitude\":\"66.058098\",\"longitude\":\"-23.1353\",\"altitude\":8,\"timezone\":\"Atlantic/Reykjavik\"}},{\"id\":\"KEF\",\"type\":\"airport\",\"attributes\":{\"name\":\"Keflavik International Airport\",\"city\":\"Keflavik\",\"country\":\"Iceland\",\"iata\":\"KEF\",\"icao\":\"BIKF\",\"latitude\":\"63.985001\",\"longitude\":\"-22.6056\",\"altitude\":171,\"timezone\":\"Atlantic/Reykjavik\"}},{\"id\":\"PFJ\",\"type\":\"airport\",\"attributes\":{\"name\":\"Patreksfjörður Airport\",\"city\":\"Patreksfjordur\",\"country\":\"Iceland\",\"iata\":\"PFJ\",\"icao\":\"BIPA\",\"latitude\":\"65.555801\",\"longitude\":\"-23.965\",\"altitude\":11,\"timezone\":\"Atlantic/Reykjavik\"}},{\"id\":\"RKV\",\"type\":\"airport\",\"attributes\":{\"name\":\"Reykjavik Airport\",\"city\":\"Reykjavik\",\"country\":\"Iceland\",\"iata\":\"RKV\",\"icao\":\"BIRK\",\"latitude\":\"64.129997\",\"longitude\":\"-21.940599\",\"altitude\":48,\"timezone\":\"Atlantic/Reykjavik\"}},{\"id\":\"SIJ\",\"type\":\"airport\",\"attributes\":{\"name\":\"Siglufjörður Airport\",\"city\":\"Siglufjordur\",\"country\":\"Iceland\",\"iata\":\"SIJ\",\"icao\":\"BISI\",\"latitude\":\"66.133301\",\"longitude\":\"-18.9167\",\"altitude\":10,\"timezone\":\"Atlantic/Reykjavik\"}},{\"id\":\"VEY\",\"type\":\"airport\",\"attributes\":{\"name\":\"Vestmannaeyjar Airport\",\"city\":\"Vestmannaeyjar\",\"country\":\"Iceland\",\"iata\":\"VEY\",\"icao\":\"BIVM\",\"latitude\":\"63.424301\",\"longitude\":\"-20.2789\",\"altitude\":326,\"timezone\":\"Atlantic/Reykjavik\"}},{\"id\":\"YAM\",\"type\":\"airport\",\"attributes\":{\"name\":\"Sault Ste Marie Airport\",\"city\":\"Sault Sainte Marie\",\"country\":\"Canada\",\"iata\":\"YAM\",\"icao\":\"CYAM\",\"latitude\":\"46.485001\",\"longitude\":\"-84.509399\",\"altitude\":630,\"timezone\":\"America/Toronto\"}},{\"id\":\"YAY\",\"type\":\"airport\",\"attributes\":{\"name\":\"St. Anthony Airport\",\"city\":\"St. Anthony\",\"country\":\"Canada\",\"iata\":\"YAY\",\"icao\":\"CYAY\",\"latitude\":\"51.391899\",\"longitude\":\"-56.083099\",\"altitude\":108,\"timezone\":\"America/St_Johns\"}},{\"id\":\"YAZ\",\"type\":\"airport\",\"attributes\":{\"name\":\"Tofino / Long Beach Airport\",\"city\":\"Tofino\",\"country\":\"Canada\",\"iata\":\"YAZ\",\"icao\":\"CYAZ\",\"latitude\":\"49.079833\",\"longitude\":\"-125.775583\",\"altitude\":80,\"timezone\":\"America/Vancouver\"}},{\"id\":\"YBB\",\"type\":\"airport\",\"attributes\":{\"name\":\"Kugaaruk Airport\",\"city\":\"Pelly Bay\",\"country\":\"Canada\",\"iata\":\"YBB\",\"icao\":\"CYBB\",\"latitude\":\"68.534401\",\"longitude\":\"-89.808098\",\"altitude\":56,\"timezone\":\"America/Edmonton\"}},{\"id\":\"YBC\",\"type\":\"airport\",\"attributes\":{\"name\":\"Baie Comeau Airport\",\"city\":\"Baie Comeau\",\"country\":\"Canada\",\"iata\":\"YBC\",\"icao\":\"CYBC\",\"latitude\":\"49.1325\",\"longitude\":\"-68.204399\",\"altitude\":71,\"timezone\":\"America/Toronto\"}},{\"id\":\"YBG\",\"type\":\"airport\",\"attributes\":{\"name\":\"CFB Bagotville\",\"city\":\"Bagotville\",\"country\":\"Canada\",\"iata\":\"YBG\",\"icao\":\"CYBG\",\"latitude\":\"48.330601\",\"longitude\":\"-70.996399\",\"altitude\":522,\"timezone\":\"America/Toronto\"}},{\"id\":\"YBK\",\"type\":\"airport\",\"attributes\":{\"name\":\"Baker Lake Airport\",\"city\":\"Baker Lake\",\"country\":\"Canada\",\"iata\":\"YBK\",\"icao\":\"CYBK\",\"latitude\":\"64.298897\",\"longitude\":\"-96.077797\",\"altitude\":59,\"timezone\":\"America/Winnipeg\"}},{\"id\":\"YBL\",\"type\":\"airport\",\"attributes\":{\"name\":\"Campbell River Airport\",\"city\":\"Campbell River\",\"country\":\"Canada\",\"iata\":\"YBL\",\"icao\":\"CYBL\",\"latitude\":\"49.950802\",\"longitude\":\"-125.271004\",\"altitude\":346,\"timezone\":\"America/Vancouver\"}},{\"id\":\"YBR\",\"type\":\"airport\",\"attributes\":{\"name\":\"Brandon Municipal Airport\",\"city\":\"Brandon\",\"country\":\"Canada\",\"iata\":\"YBR\",\"icao\":\"CYBR\",\"latitude\":\"49.91\",\"longitude\":\"-99.951897\",\"altitude\":1343,\"timezone\":\"America/Winnipeg\"}},{\"id\":\"YCB\",\"type\":\"airport\",\"attributes\":{\"name\":\"Cambridge Bay Airport\",\"city\":\"Cambridge Bay\",\"country\":\"Canada\",\"iata\":\"YCB\",\"icao\":\"CYCB\",\"latitude\":\"69.108101\",\"longitude\":\"-105.138\",\"altitude\":90,\"timezone\":\"America/Edmonton\"}}],\"links\":{\"first\":\"https://airportgap.dev-tester.com/api/airports\",\"self\":\"https://airportgap.dev-tester.com/api/airports\",\"last\":\"https://airportgap.dev-tester.com/api/airports?page=203\",\"prev\":\"https://airportgap.dev-tester.com/api/airports\",\"next\":\"https://airportgap.dev-tester.com/api/airports?page=2\"}}\n",
      "\n"
     ]
    }
   ],
   "source": [
    "test_get()"
   ]
  },
  {
   "cell_type": "markdown",
   "id": "chubby-institute",
   "metadata": {},
   "source": [
    "Trying to POST"
   ]
  },
  {
   "cell_type": "code",
   "execution_count": 28,
   "id": "separate-shaft",
   "metadata": {},
   "outputs": [
    {
     "name": "stdout",
     "output_type": "stream",
     "text": [
      "\n",
      "-----------Request----------->\n",
      "POST https://httpbin.org/post\n",
      "\n",
      "User-Agent: python-requests/2.25.1\n",
      "Accept-Encoding: gzip, deflate\n",
      "Accept: */*\n",
      "Connection: keep-alive\n",
      "Content-Type: application/json\n",
      "Content-Length: 39\n",
      "\n",
      "{\n",
      "    \"key1\": 1,\n",
      "    \"key2\": \"value2\"\n",
      "}\n",
      "\n",
      "\n",
      "<-----------Response-----------\n",
      "Status code:200\n",
      "\n",
      "Date: Thu, 08 Jul 2021 15:48:14 GMT\n",
      "Content-Type: application/json\n",
      "Content-Length: 529\n",
      "Connection: keep-alive\n",
      "Server: gunicorn/19.9.0\n",
      "Access-Control-Allow-Origin: *\n",
      "Access-Control-Allow-Credentials: true\n",
      "\n",
      "{\n",
      "  \"args\": {}, \n",
      "  \"data\": \"{\\n    \\\"key1\\\": 1,\\n    \\\"key2\\\": \\\"value2\\\"\\n}\", \n",
      "  \"files\": {}, \n",
      "  \"form\": {}, \n",
      "  \"headers\": {\n",
      "    \"Accept\": \"*/*\", \n",
      "    \"Accept-Encoding\": \"gzip, deflate\", \n",
      "    \"Content-Length\": \"39\", \n",
      "    \"Content-Type\": \"application/json\", \n",
      "    \"Host\": \"httpbin.org\", \n",
      "    \"User-Agent\": \"python-requests/2.25.1\", \n",
      "    \"X-Amzn-Trace-Id\": \"Root=1-60e71e3e-08016fb8219428bf3fd7bdb8\"\n",
      "  }, \n",
      "  \"json\": {\n",
      "    \"key1\": 1, \n",
      "    \"key2\": \"value2\"\n",
      "  }, \n",
      "  \"origin\": \"180.241.239.231\", \n",
      "  \"url\": \"https://httpbin.org/post\"\n",
      "}\n",
      "\n",
      "\n"
     ]
    }
   ],
   "source": [
    "test_post_headers_body_json()"
   ]
  },
  {
   "cell_type": "code",
   "execution_count": 20,
   "id": "rolled-knight",
   "metadata": {},
   "outputs": [],
   "source": [
    "def test_mock_service():\n",
    "    url = 'http://127.0.0.1:8000/json'    \n",
    "    resp = requests.get(url)           \n",
    "    assert resp.status_code == 200\n",
    "    assert resp.json()[\"code\"] == 1\n",
    "    print(resp.text)"
   ]
  },
  {
   "cell_type": "code",
   "execution_count": null,
   "id": "durable-africa",
   "metadata": {},
   "outputs": [],
   "source": []
  }
 ],
 "metadata": {
  "kernelspec": {
   "display_name": "Python 3",
   "language": "python",
   "name": "python3"
  },
  "language_info": {
   "codemirror_mode": {
    "name": "ipython",
    "version": 3
   },
   "file_extension": ".py",
   "mimetype": "text/x-python",
   "name": "python",
   "nbconvert_exporter": "python",
   "pygments_lexer": "ipython3",
   "version": "3.9.6"
  }
 },
 "nbformat": 4,
 "nbformat_minor": 5
}
